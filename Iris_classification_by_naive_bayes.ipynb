{
 "cells": [
  {
   "cell_type": "code",
   "execution_count": 1,
   "id": "47befd1a",
   "metadata": {},
   "outputs": [
    {
     "name": "stderr",
     "output_type": "stream",
     "text": [
      "C:\\Users\\Teerawat\\anaconda3\\lib\\site-packages\\scipy\\__init__.py:146: UserWarning: A NumPy version >=1.16.5 and <1.23.0 is required for this version of SciPy (detected version 1.23.4\n",
      "  warnings.warn(f\"A NumPy version >={np_minversion} and <{np_maxversion}\"\n"
     ]
    }
   ],
   "source": [
    "from sklearn.datasets import load_iris\n",
    "from sklearn.model_selection import train_test_split\n",
    "from sklearn.naive_bayes import GaussianNB\n",
    "from sklearn.metrics import accuracy_score\n",
    "\n",
    "# Load the Iris dataset\n",
    "iris = load_iris()\n",
    "X, y = iris.data, iris.target\n",
    "\n",
    "# Split the dataset into training and test sets\n",
    "X_train, X_test, y_train, y_test = train_test_split(X, y, test_size=0.3, random_state=42)\n",
    "\n",
    "# Create and train the Gaussian Naive Bayes classifier\n",
    "gnb = GaussianNB()\n",
    "gnb.fit(X_train, y_train)\n",
    "\n",
    "# Make predictions on the test set\n",
    "y_pred = gnb.predict(X_test)"
   ]
  },
  {
   "cell_type": "code",
   "execution_count": 2,
   "id": "9a99b029",
   "metadata": {},
   "outputs": [
    {
     "name": "stdout",
     "output_type": "stream",
     "text": [
      "Gaussian Naive Bayes classifier accuracy: 0.978\n"
     ]
    }
   ],
   "source": [
    "# Calculate the accuracy of the classifier\n",
    "accuracy = accuracy_score(y_test, y_pred)\n",
    "\n",
    "print(f\"Gaussian Naive Bayes classifier accuracy: {accuracy:.3f}\")"
   ]
  },
  {
   "cell_type": "code",
   "execution_count": 3,
   "id": "a4d239fd",
   "metadata": {},
   "outputs": [
    {
     "data": {
      "application/vnd.jupyter.widget-view+json": {
       "model_id": "fb353dcc8dc54d7e8ba4ce916b23f103",
       "version_major": 2,
       "version_minor": 0
      },
      "text/plain": [
       "VBox(children=(FloatSlider(value=5.0, description='Sepal length (cm)', max=7.9, min=4.3), FloatSlider(value=3.…"
      ]
     },
     "metadata": {},
     "output_type": "display_data"
    }
   ],
   "source": [
    "import ipywidgets as widgets\n",
    "from IPython.display import display\n",
    "\n",
    "\n",
    "def predict_species(sepal_length, sepal_width, petal_length, petal_width):\n",
    "    if sepal_length < iris.data[:, 0].min() or sepal_length > iris.data[:, 0].max():\n",
    "        return \"Error: Sepal length must be between {} and {} cm.\".format(iris.data[:, 0].min(), iris.data[:, 0].max())\n",
    "    if sepal_width < iris.data[:, 1].min() or sepal_width > iris.data[:, 1].max():\n",
    "        return \"Error: Sepal width must be between {} and {} cm.\".format(iris.data[:, 1].min(), iris.data[:, 1].max())\n",
    "    if petal_length < iris.data[:, 2].min() or petal_length > iris.data[:, 2].max():\n",
    "        return \"Error: Petal length must be between {} and {} cm.\".format(iris.data[:, 2].min(), iris.data[:, 2].max())\n",
    "    if petal_width < iris.data[:, 3].min() or petal_width > iris.data[:, 3].max():\n",
    "        return \"Error: Petal width must be between {} and {} cm.\".format(iris.data[:, 3].min(), iris.data[:, 3].max())\n",
    "\n",
    "    input_data = [[sepal_length, sepal_width, petal_length, petal_width]]\n",
    "    prediction = gnb.predict(input_data)\n",
    "    species = iris.target_names[prediction][0]\n",
    "    return \"The species is predicted to be: {}\".format(species)\n",
    "\n",
    "# GUI\n",
    "sepal_length = widgets.FloatSlider(min=iris.data[:, 0].min(), max=iris.data[:, 0].max(), step=0.1, value=5.0, description=\"Sepal length (cm)\")\n",
    "sepal_width = widgets.FloatSlider(min=iris.data[:, 1].min(), max=iris.data[:, 1].max(), step=0.1, value=3.0, description=\"Sepal width (cm)\")\n",
    "petal_length = widgets.FloatSlider(min=iris.data[:, 2].min(), max=iris.data[:, 2].max(), step=0.1, value=1.0, description=\"Petal length (cm)\")\n",
    "petal_width = widgets.FloatSlider(min=iris.data[:, 3].min(), max=iris.data[:, 3].max(), step=0.1, value=0.2, description=\"Petal width (cm)\")\n",
    "output_label = widgets.Label(value='')\n",
    "submit_button = widgets.Button(description=\"Submit\")\n",
    "\n",
    "def on_submit_clicked(b):\n",
    "    sepal_length_value = sepal_length.value\n",
    "    sepal_width_value = sepal_width.value\n",
    "    petal_length_value = petal_length.value\n",
    "    petal_width_value = petal_width.value\n",
    "    output_label.value = predict_species(sepal_length_value, sepal_width_value, petal_length_value, petal_width_value)\n",
    "\n",
    "submit_button.on_click(on_submit_clicked)\n",
    "\n",
    "widgets.VBox([sepal_length, sepal_width, petal_length, petal_width, submit_button, output_label])"
   ]
  },
  {
   "cell_type": "code",
   "execution_count": null,
   "id": "d44004ac",
   "metadata": {},
   "outputs": [],
   "source": []
  }
 ],
 "metadata": {
  "kernelspec": {
   "display_name": "Python 3 (ipykernel)",
   "language": "python",
   "name": "python3"
  },
  "language_info": {
   "codemirror_mode": {
    "name": "ipython",
    "version": 3
   },
   "file_extension": ".py",
   "mimetype": "text/x-python",
   "name": "python",
   "nbconvert_exporter": "python",
   "pygments_lexer": "ipython3",
   "version": "3.9.15"
  }
 },
 "nbformat": 4,
 "nbformat_minor": 5
}
